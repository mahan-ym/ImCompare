{
 "cells": [
  {
   "cell_type": "code",
   "execution_count": 1,
   "id": "45382ce4-35eb-4023-a186-ce1662da0c6f",
   "metadata": {},
   "outputs": [],
   "source": [
    "import cv2 as cv\n",
    "import urllib\n",
    "import matplotlib.pyplot as plt\n",
    "import numpy as np"
   ]
  },
  {
   "cell_type": "markdown",
   "id": "2ff45f2d-a873-492a-9f33-5167bbb5e1e5",
   "metadata": {},
   "source": [
    "MSE: Mean Squared Error that represents our difference measurment strategy\n",
    "\n",
    "** note: cv.substract function has a limitation that both of the images should be the same size\n",
    "in our case as we just want to detect resembled images it is okay so we use a try except block **"
   ]
  },
  {
   "cell_type": "code",
   "execution_count": 6,
   "id": "45851729-4dcc-4d7e-acde-43ea7e10d01a",
   "metadata": {},
   "outputs": [],
   "source": [
    "def meanSquareError(img1, img2):\n",
    "    h, w = img1.shape\n",
    "    diff = cv.subtract(img1, img2)\n",
    "    err = np.sum(diff**2)\n",
    "    mse = err/(float(h*w))\n",
    "    return mse"
   ]
  },
  {
   "cell_type": "markdown",
   "id": "12bbc82e-eb3e-4f49-b0d8-ba675b28f93d",
   "metadata": {},
   "source": [
    "The getImageFromURL function fetch the image we want from web"
   ]
  },
  {
   "cell_type": "code",
   "execution_count": 7,
   "id": "721d106f-fc2f-4463-bbc3-b7f2d4ce0147",
   "metadata": {},
   "outputs": [],
   "source": [
    "def getImageFromURL(url):\n",
    "    req = urllib.request.urlopen(url)\n",
    "    img_array = np.array(bytearray(req.read()), dtype=np.uint8)\n",
    "    return cv.imdecode(img_array, -1)"
   ]
  },
  {
   "cell_type": "code",
   "execution_count": 8,
   "id": "99c2229d-f575-438f-9c73-8f83b1390c71",
   "metadata": {},
   "outputs": [],
   "source": [
    "sourceImg = getImageFromURL('https://sienaconstruction.com/wp-content/uploads/2017/05/test-image.jpg')\n",
    "sourceImg = cv.cvtColor(sourceImg, cv.COLOR_BGR2GRAY)\n",
    "targetImg = getImageFromURL('https://sienaconstruction.com/wp-content/uploads/2017/05/test-image.jpg')\n",
    "targetImg = cv.cvtColor(targetImg, cv.COLOR_BGR2GRAY)"
   ]
  },
  {
   "cell_type": "code",
   "execution_count": 9,
   "id": "91f0155c-b4c9-4e39-a30c-c1378beee542",
   "metadata": {},
   "outputs": [
    {
     "data": {
      "text/plain": [
       "0.0"
      ]
     },
     "execution_count": 9,
     "metadata": {},
     "output_type": "execute_result"
    }
   ],
   "source": [
    "meanSquareError(sourceImg, targetImg)"
   ]
  },
  {
   "cell_type": "code",
   "execution_count": null,
   "id": "0d7df0f3-84ff-4e92-8ef6-1900d2e0b107",
   "metadata": {},
   "outputs": [],
   "source": []
  }
 ],
 "metadata": {
  "kernelspec": {
   "display_name": "Python 3 (ipykernel)",
   "language": "python",
   "name": "python3"
  },
  "language_info": {
   "codemirror_mode": {
    "name": "ipython",
    "version": 3
   },
   "file_extension": ".py",
   "mimetype": "text/x-python",
   "name": "python",
   "nbconvert_exporter": "python",
   "pygments_lexer": "ipython3",
   "version": "3.9.7"
  }
 },
 "nbformat": 4,
 "nbformat_minor": 5
}
